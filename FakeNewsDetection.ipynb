{
  "nbformat": 4,
  "nbformat_minor": 0,
  "metadata": {
    "colab": {
      "name": "FakeNewsDetection.ipynb",
      "provenance": [],
      "collapsed_sections": []
    },
    "kernelspec": {
      "name": "python3",
      "display_name": "Python 3"
    },
    "language_info": {
      "name": "python"
    }
  },
  "cells": [
    {
      "cell_type": "markdown",
      "metadata": {
        "id": "YvIGnvge1GQ3"
      },
      "source": [
        "#**Author: Sachet Utekar**"
      ]
    },
    {
      "cell_type": "markdown",
      "metadata": {
        "id": "WSLTW7v11o0q"
      },
      "source": [
        "##**Infopillar Task 2: Fake News Detection Project** "
      ]
    },
    {
      "cell_type": "markdown",
      "metadata": {
        "id": "3-5C5wcf1S2w"
      },
      "source": [
        "##**Project idea – Fake news spreads like a wildfire and this is a big issue in this era.**\n",
        "You can learn how to distinguish fake news from a real one. You can use supervised learning to implement a model like this. \n"
      ]
    },
    {
      "cell_type": "markdown",
      "metadata": {
        "id": "glbjOh8oN_kM"
      },
      "source": [
        "##**Dataset: https://bit.ly/3FxCSC4**"
      ]
    },
    {
      "cell_type": "markdown",
      "metadata": {
        "id": "0vz68sot2aHr"
      },
      "source": [
        "##**Importing Necessary Libraries**"
      ]
    },
    {
      "cell_type": "code",
      "metadata": {
        "id": "f-ZhUVoXuXOG"
      },
      "source": [
        "import pandas as pd\n",
        "import numpy as np\n",
        "from sklearn.model_selection import train_test_split\n",
        "from sklearn.linear_model import PassiveAggressiveClassifier\n",
        "from sklearn.feature_extraction.text import TfidfVectorizer\n",
        "from sklearn.metrics import accuracy_score, confusion_matrix "
      ],
      "execution_count": 14,
      "outputs": []
    },
    {
      "cell_type": "markdown",
      "metadata": {
        "id": "CBt4NKTS2hTu"
      },
      "source": [
        "##**Importing the dataset**"
      ]
    },
    {
      "cell_type": "code",
      "metadata": {
        "colab": {
          "base_uri": "https://localhost:8080/",
          "height": 237
        },
        "id": "3CZxcMOgvFP6",
        "outputId": "306a4f7b-0f51-4ec4-fb5c-532fb15b2801"
      },
      "source": [
        "dataset = pd.read_csv('/content/news.csv', sep = ',', encoding = 'iso-8859-1', squeeze = False)\n",
        "dataset.head(6)"
      ],
      "execution_count": 15,
      "outputs": [
        {
          "output_type": "execute_result",
          "data": {
            "text/html": [
              "<div>\n",
              "<style scoped>\n",
              "    .dataframe tbody tr th:only-of-type {\n",
              "        vertical-align: middle;\n",
              "    }\n",
              "\n",
              "    .dataframe tbody tr th {\n",
              "        vertical-align: top;\n",
              "    }\n",
              "\n",
              "    .dataframe thead th {\n",
              "        text-align: right;\n",
              "    }\n",
              "</style>\n",
              "<table border=\"1\" class=\"dataframe\">\n",
              "  <thead>\n",
              "    <tr style=\"text-align: right;\">\n",
              "      <th></th>\n",
              "      <th>Unnamed: 0</th>\n",
              "      <th>title</th>\n",
              "      <th>text</th>\n",
              "      <th>label</th>\n",
              "    </tr>\n",
              "  </thead>\n",
              "  <tbody>\n",
              "    <tr>\n",
              "      <th>0</th>\n",
              "      <td>8476</td>\n",
              "      <td>You Can Smell Hillaryâs Fear</td>\n",
              "      <td>Daniel Greenfield, a Shillman Journalism Fello...</td>\n",
              "      <td>FAKE</td>\n",
              "    </tr>\n",
              "    <tr>\n",
              "      <th>1</th>\n",
              "      <td>10294</td>\n",
              "      <td>Watch The Exact Moment Paul Ryan Committed Pol...</td>\n",
              "      <td>Google Pinterest Digg Linkedin Reddit Stumbleu...</td>\n",
              "      <td>FAKE</td>\n",
              "    </tr>\n",
              "    <tr>\n",
              "      <th>2</th>\n",
              "      <td>3608</td>\n",
              "      <td>Kerry to go to Paris in gesture of sympathy</td>\n",
              "      <td>U.S. Secretary of State John F. Kerry said Mon...</td>\n",
              "      <td>REAL</td>\n",
              "    </tr>\n",
              "    <tr>\n",
              "      <th>3</th>\n",
              "      <td>10142</td>\n",
              "      <td>Bernie supporters on Twitter erupt in anger ag...</td>\n",
              "      <td>â Kaydee King (@KaydeeKing) November 9, 2016...</td>\n",
              "      <td>FAKE</td>\n",
              "    </tr>\n",
              "    <tr>\n",
              "      <th>4</th>\n",
              "      <td>875</td>\n",
              "      <td>The Battle of New York: Why This Primary Matters</td>\n",
              "      <td>It's primary day in New York and front-runners...</td>\n",
              "      <td>REAL</td>\n",
              "    </tr>\n",
              "    <tr>\n",
              "      <th>5</th>\n",
              "      <td>6903</td>\n",
              "      <td>Tehran, USA</td>\n",
              "      <td>\\nIâm not an immigrant, but my grandparent...</td>\n",
              "      <td>FAKE</td>\n",
              "    </tr>\n",
              "  </tbody>\n",
              "</table>\n",
              "</div>"
            ],
            "text/plain": [
              "   Unnamed: 0  ... label\n",
              "0        8476  ...  FAKE\n",
              "1       10294  ...  FAKE\n",
              "2        3608  ...  REAL\n",
              "3       10142  ...  FAKE\n",
              "4         875  ...  REAL\n",
              "5        6903  ...  FAKE\n",
              "\n",
              "[6 rows x 4 columns]"
            ]
          },
          "metadata": {},
          "execution_count": 15
        }
      ]
    },
    {
      "cell_type": "markdown",
      "metadata": {
        "id": "nmyLFsaT2qw-"
      },
      "source": [
        "##**Splitting the dataset into X & y**"
      ]
    },
    {
      "cell_type": "code",
      "metadata": {
        "id": "sBweSxTfvM5n"
      },
      "source": [
        "#Splitting for simplicity purpose\n",
        "#text/news & label for it whether its fake or real\n",
        "X = dataset['text']\n",
        "y = dataset['label']"
      ],
      "execution_count": 16,
      "outputs": []
    },
    {
      "cell_type": "code",
      "metadata": {
        "colab": {
          "base_uri": "https://localhost:8080/"
        },
        "id": "nGJRjfFKvXZq",
        "outputId": "796605a8-65c0-4ed7-fa22-7d1e054b2f1c"
      },
      "source": [
        "X"
      ],
      "execution_count": 17,
      "outputs": [
        {
          "output_type": "execute_result",
          "data": {
            "text/plain": [
              "0       Daniel Greenfield, a Shillman Journalism Fello...\n",
              "1       Google Pinterest Digg Linkedin Reddit Stumbleu...\n",
              "2       U.S. Secretary of State John F. Kerry said Mon...\n",
              "3       â Kaydee King (@KaydeeKing) November 9, 2016...\n",
              "4       It's primary day in New York and front-runners...\n",
              "                              ...                        \n",
              "6330    The State Department told the Republican Natio...\n",
              "6331    The âPâ in PBS Should Stand for âPlutocr...\n",
              "6332     Anti-Trump Protesters Are Tools of the Oligar...\n",
              "6333    ADDIS ABABA, Ethiopia âPresident Obama conve...\n",
              "6334    Jeb Bush Is Suddenly Attacking Trump. Here's W...\n",
              "Name: text, Length: 6335, dtype: object"
            ]
          },
          "metadata": {},
          "execution_count": 17
        }
      ]
    },
    {
      "cell_type": "code",
      "metadata": {
        "colab": {
          "base_uri": "https://localhost:8080/"
        },
        "id": "kt_V7gY2vXdI",
        "outputId": "0afd230e-b459-4ff1-a197-7038be029f56"
      },
      "source": [
        "y"
      ],
      "execution_count": 18,
      "outputs": [
        {
          "output_type": "execute_result",
          "data": {
            "text/plain": [
              "0       FAKE\n",
              "1       FAKE\n",
              "2       REAL\n",
              "3       FAKE\n",
              "4       REAL\n",
              "        ... \n",
              "6330    REAL\n",
              "6331    FAKE\n",
              "6332    FAKE\n",
              "6333    REAL\n",
              "6334    REAL\n",
              "Name: label, Length: 6335, dtype: object"
            ]
          },
          "metadata": {},
          "execution_count": 18
        }
      ]
    },
    {
      "cell_type": "markdown",
      "metadata": {
        "id": "6zZIMwMR242-"
      },
      "source": [
        "##**Splitting the dataset into training & testing sets**"
      ]
    },
    {
      "cell_type": "code",
      "metadata": {
        "id": "K0qvFyfsvbic"
      },
      "source": [
        "X_train, X_test, y_train, y_test = train_test_split(X, y, test_size = 0.2, random_state = 0)"
      ],
      "execution_count": 19,
      "outputs": []
    },
    {
      "cell_type": "markdown",
      "metadata": {
        "id": "dTiKJHg33GmL"
      },
      "source": [
        "##**Vectorization**"
      ]
    },
    {
      "cell_type": "code",
      "metadata": {
        "id": "ASyeTX_6vuCw"
      },
      "source": [
        "tfvect = TfidfVectorizer(stop_words = 'english', max_df = 0.7)\n",
        "tfid_X_train = tfvect.fit_transform(X_train)\n",
        "tfid_X_test = tfvect.transform(X_test)"
      ],
      "execution_count": 20,
      "outputs": []
    },
    {
      "cell_type": "markdown",
      "metadata": {
        "id": "Z0VRZ1pc3NDZ"
      },
      "source": [
        "##**Machine Learning Model**"
      ]
    },
    {
      "cell_type": "code",
      "metadata": {
        "colab": {
          "base_uri": "https://localhost:8080/"
        },
        "id": "z3npAFUfwG8p",
        "outputId": "82c136a5-20f5-4d8b-f088-fcb90fa85e4f"
      },
      "source": [
        "#Classifying fake & real news\n",
        "classifier = PassiveAggressiveClassifier(max_iter = 50)\n",
        "classifier.fit(tfid_X_train, y_train)   "
      ],
      "execution_count": 21,
      "outputs": [
        {
          "output_type": "execute_result",
          "data": {
            "text/plain": [
              "PassiveAggressiveClassifier(max_iter=50)"
            ]
          },
          "metadata": {},
          "execution_count": 21
        }
      ]
    },
    {
      "cell_type": "markdown",
      "metadata": {
        "id": "1oKWw4Zc3dXQ"
      },
      "source": [
        "##**Model Accuracy**"
      ]
    },
    {
      "cell_type": "code",
      "metadata": {
        "colab": {
          "base_uri": "https://localhost:8080/"
        },
        "id": "AHft6AMnwHAY",
        "outputId": "b4227698-1dd1-4a79-afa4-835e0afc1119"
      },
      "source": [
        "y_pred = classifier.predict(tfid_X_test)\n",
        "score = accuracy_score(y_test, y_pred)\n",
        "\n",
        "print(f'Accuracy: {round(score * 100, 2)}%')"
      ],
      "execution_count": 22,
      "outputs": [
        {
          "output_type": "stream",
          "name": "stdout",
          "text": [
            "Accuracy: 94.0%\n"
          ]
        }
      ]
    },
    {
      "cell_type": "markdown",
      "metadata": {
        "id": "xfbpKvuF3hRV"
      },
      "source": [
        "##**Making a confusion matrix for classification visibilty**"
      ]
    },
    {
      "cell_type": "code",
      "metadata": {
        "colab": {
          "base_uri": "https://localhost:8080/"
        },
        "id": "01_WUducw2vm",
        "outputId": "faf74e89-8600-4b49-daef-82313ae71baa"
      },
      "source": [
        "cf = confusion_matrix(y_test, y_pred, labels = ['FAKE', 'REAL'])\n",
        "print(cf)"
      ],
      "execution_count": 23,
      "outputs": [
        {
          "output_type": "stream",
          "name": "stdout",
          "text": [
            "[[576  39]\n",
            " [ 37 615]]\n"
          ]
        }
      ]
    },
    {
      "cell_type": "markdown",
      "metadata": {
        "id": "YGzUaqZQ3x3Z"
      },
      "source": [
        "##**Creating a function for testing the model on data**"
      ]
    },
    {
      "cell_type": "code",
      "metadata": {
        "id": "atlhDhI6xFGH"
      },
      "source": [
        "def fake_news_detection(news):\n",
        "  input_data = [news]\n",
        "  vectorized_input_data = tfvect.transform(input_data)\n",
        "  prediction = classifier.predict(vectorized_input_data)\n",
        "  print(prediction)\n"
      ],
      "execution_count": 24,
      "outputs": []
    },
    {
      "cell_type": "markdown",
      "metadata": {
        "id": "6COlEcN94CHn"
      },
      "source": [
        "##**Results**"
      ]
    },
    {
      "cell_type": "code",
      "metadata": {
        "colab": {
          "base_uri": "https://localhost:8080/"
        },
        "id": "np6-MXRx0LFJ",
        "outputId": "4edcaaec-0b2c-418f-f160-340f18746cd9"
      },
      "source": [
        "fake_news_detection('10 Ways America Is Preparing for World War 3') #randomly taken"
      ],
      "execution_count": 25,
      "outputs": [
        {
          "output_type": "stream",
          "name": "stdout",
          "text": [
            "['FAKE']\n"
          ]
        }
      ]
    },
    {
      "cell_type": "code",
      "metadata": {
        "colab": {
          "base_uri": "https://localhost:8080/"
        },
        "id": "xi6IF0gM0Jdv",
        "outputId": "95d2772e-ad50-421b-e75b-05586d1f5b3d"
      },
      "source": [
        "fake_news_detection('Iran reportedly makes new push for uranium concessions in nuclear talks') #randomly taken"
      ],
      "execution_count": 26,
      "outputs": [
        {
          "output_type": "stream",
          "name": "stdout",
          "text": [
            "['REAL']\n"
          ]
        }
      ]
    },
    {
      "cell_type": "code",
      "metadata": {
        "colab": {
          "base_uri": "https://localhost:8080/"
        },
        "id": "vxLd17U20dPZ",
        "outputId": "9583dc22-0d35-4c90-ae1d-ab50c7759a31"
      },
      "source": [
        "fake_news_detection('GOOGLE PLANNED MASSIVE AI INTEGRATED SOCIAL NETWORK SPY TOOL FOR HILLARY CAMPAIGN IN 2014') #randomly taken"
      ],
      "execution_count": 27,
      "outputs": [
        {
          "output_type": "stream",
          "name": "stdout",
          "text": [
            "['FAKE']\n"
          ]
        }
      ]
    }
  ]
}